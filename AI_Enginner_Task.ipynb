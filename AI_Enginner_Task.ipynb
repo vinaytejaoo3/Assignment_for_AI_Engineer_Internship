{
 "cells": [
  {
   "cell_type": "code",
   "execution_count": 5,
   "id": "49652744",
   "metadata": {},
   "outputs": [],
   "source": [
    "import pandas as pd\n",
    "from collections import Counter\n",
    "from sklearn.feature_extraction.text import CountVectorizer\n",
    "from sklearn.decomposition import LatentDirichletAllocation\n",
    "from nltk.sentiment import SentimentIntensityAnalyzer"
   ]
  },
  {
   "cell_type": "code",
   "execution_count": 6,
   "id": "71a261f2",
   "metadata": {},
   "outputs": [],
   "source": [
    "df = pd.read_csv(\"C:/Users/VINAYTEJA KEASRI/OneDrive/Desktop/Reelo/TestReviews.csv\")"
   ]
  },
  {
   "cell_type": "code",
   "execution_count": 7,
   "id": "cf950edd",
   "metadata": {},
   "outputs": [],
   "source": [
    "df.rename(columns={'review': 'review_text'}, inplace=True)\n"
   ]
  },
  {
   "cell_type": "code",
   "execution_count": 8,
   "id": "237f91d9",
   "metadata": {},
   "outputs": [
    {
     "name": "stdout",
     "output_type": "stream",
     "text": [
      "Index(['review_text', 'class'], dtype='object')\n"
     ]
    }
   ],
   "source": [
    "print(df.columns)\n"
   ]
  },
  {
   "cell_type": "code",
   "execution_count": 9,
   "id": "becd3f32",
   "metadata": {},
   "outputs": [],
   "source": [
    "df.dropna(subset=['review_text'], inplace=True)  # Remove NaNs\n",
    "df = df[df['review_text'].str.strip() != '']     # Remove empty strings\n"
   ]
  },
  {
   "cell_type": "code",
   "execution_count": 10,
   "id": "d43148c4",
   "metadata": {},
   "outputs": [
    {
     "name": "stderr",
     "output_type": "stream",
     "text": [
      "[nltk_data] Downloading package stopwords to C:\\Users\\VINAYTEJA\n",
      "[nltk_data]     KEASRI\\AppData\\Roaming\\nltk_data...\n",
      "[nltk_data]   Package stopwords is already up-to-date!\n"
     ]
    }
   ],
   "source": [
    "import re\n",
    "import nltk\n",
    "nltk.download('stopwords')\n",
    "from nltk.corpus import stopwords"
   ]
  },
  {
   "cell_type": "code",
   "execution_count": 11,
   "id": "7918b898",
   "metadata": {},
   "outputs": [],
   "source": [
    "stop_words = set(stopwords.words('english'))"
   ]
  },
  {
   "cell_type": "code",
   "execution_count": 12,
   "id": "d90458ee",
   "metadata": {},
   "outputs": [],
   "source": [
    "def clean_text(text):\n",
    "    text = text.lower()\n",
    "    text = re.sub(r'http\\S+|www\\S+', '',text)\n",
    "    text = re.sub(r'[^a-zA-Z\\s]', '', text)\n",
    "    text = re.sub(r'\\s+', ' ',text).strip()\n",
    "    text = ' '.join([word for word in text.split() if word not in stop_words])  \n",
    "    return text\n"
   ]
  },
  {
   "cell_type": "code",
   "execution_count": 13,
   "id": "3bd4a778",
   "metadata": {},
   "outputs": [],
   "source": [
    "df = df.copy()  \n",
    "df['clean_text'] = df['review_text'].apply(clean_text)"
   ]
  },
  {
   "cell_type": "code",
   "execution_count": 14,
   "id": "78597f39",
   "metadata": {},
   "outputs": [
    {
     "data": {
      "text/html": [
       "<div>\n",
       "<style scoped>\n",
       "    .dataframe tbody tr th:only-of-type {\n",
       "        vertical-align: middle;\n",
       "    }\n",
       "\n",
       "    .dataframe tbody tr th {\n",
       "        vertical-align: top;\n",
       "    }\n",
       "\n",
       "    .dataframe thead th {\n",
       "        text-align: right;\n",
       "    }\n",
       "</style>\n",
       "<table border=\"1\" class=\"dataframe\">\n",
       "  <thead>\n",
       "    <tr style=\"text-align: right;\">\n",
       "      <th></th>\n",
       "      <th>review_text</th>\n",
       "      <th>class</th>\n",
       "      <th>clean_text</th>\n",
       "    </tr>\n",
       "  </thead>\n",
       "  <tbody>\n",
       "    <tr>\n",
       "      <th>0</th>\n",
       "      <td>Fantastic spot for an even or a quite cocktail...</td>\n",
       "      <td>1</td>\n",
       "      <td>fantastic spot even quite cocktail swell host ...</td>\n",
       "    </tr>\n",
       "    <tr>\n",
       "      <th>1</th>\n",
       "      <td>Love, love, love the calamari. It's so good an...</td>\n",
       "      <td>1</td>\n",
       "      <td>love love love calamari good spicy endless lis...</td>\n",
       "    </tr>\n",
       "    <tr>\n",
       "      <th>2</th>\n",
       "      <td>Love this place. Stiff martinis and cocktails,...</td>\n",
       "      <td>1</td>\n",
       "      <td>love place stiff martinis cocktails cheap drin...</td>\n",
       "    </tr>\n",
       "    <tr>\n",
       "      <th>3</th>\n",
       "      <td>It's everything a great cocktail bar should be...</td>\n",
       "      <td>1</td>\n",
       "      <td>everything great cocktail bar great location a...</td>\n",
       "    </tr>\n",
       "    <tr>\n",
       "      <th>4</th>\n",
       "      <td>I came here before a pirates game, so it was a...</td>\n",
       "      <td>1</td>\n",
       "      <td>came pirates game around ish evening gotten lu...</td>\n",
       "    </tr>\n",
       "  </tbody>\n",
       "</table>\n",
       "</div>"
      ],
      "text/plain": [
       "                                         review_text  class  \\\n",
       "0  Fantastic spot for an even or a quite cocktail...      1   \n",
       "1  Love, love, love the calamari. It's so good an...      1   \n",
       "2  Love this place. Stiff martinis and cocktails,...      1   \n",
       "3  It's everything a great cocktail bar should be...      1   \n",
       "4  I came here before a pirates game, so it was a...      1   \n",
       "\n",
       "                                          clean_text  \n",
       "0  fantastic spot even quite cocktail swell host ...  \n",
       "1  love love love calamari good spicy endless lis...  \n",
       "2  love place stiff martinis cocktails cheap drin...  \n",
       "3  everything great cocktail bar great location a...  \n",
       "4  came pirates game around ish evening gotten lu...  "
      ]
     },
     "execution_count": 14,
     "metadata": {},
     "output_type": "execute_result"
    }
   ],
   "source": [
    "df.head()"
   ]
  },
  {
   "cell_type": "code",
   "execution_count": 15,
   "id": "1c556a25",
   "metadata": {},
   "outputs": [],
   "source": [
    "df.drop(columns=['review_text'],inplace=True)"
   ]
  },
  {
   "cell_type": "code",
   "execution_count": 16,
   "id": "9a51a421",
   "metadata": {},
   "outputs": [
    {
     "data": {
      "text/html": [
       "<div>\n",
       "<style scoped>\n",
       "    .dataframe tbody tr th:only-of-type {\n",
       "        vertical-align: middle;\n",
       "    }\n",
       "\n",
       "    .dataframe tbody tr th {\n",
       "        vertical-align: top;\n",
       "    }\n",
       "\n",
       "    .dataframe thead th {\n",
       "        text-align: right;\n",
       "    }\n",
       "</style>\n",
       "<table border=\"1\" class=\"dataframe\">\n",
       "  <thead>\n",
       "    <tr style=\"text-align: right;\">\n",
       "      <th></th>\n",
       "      <th>class</th>\n",
       "      <th>clean_text</th>\n",
       "    </tr>\n",
       "  </thead>\n",
       "  <tbody>\n",
       "    <tr>\n",
       "      <th>0</th>\n",
       "      <td>1</td>\n",
       "      <td>fantastic spot even quite cocktail swell host ...</td>\n",
       "    </tr>\n",
       "    <tr>\n",
       "      <th>1</th>\n",
       "      <td>1</td>\n",
       "      <td>love love love calamari good spicy endless lis...</td>\n",
       "    </tr>\n",
       "    <tr>\n",
       "      <th>2</th>\n",
       "      <td>1</td>\n",
       "      <td>love place stiff martinis cocktails cheap drin...</td>\n",
       "    </tr>\n",
       "    <tr>\n",
       "      <th>3</th>\n",
       "      <td>1</td>\n",
       "      <td>everything great cocktail bar great location a...</td>\n",
       "    </tr>\n",
       "    <tr>\n",
       "      <th>4</th>\n",
       "      <td>1</td>\n",
       "      <td>came pirates game around ish evening gotten lu...</td>\n",
       "    </tr>\n",
       "  </tbody>\n",
       "</table>\n",
       "</div>"
      ],
      "text/plain": [
       "   class                                         clean_text\n",
       "0      1  fantastic spot even quite cocktail swell host ...\n",
       "1      1  love love love calamari good spicy endless lis...\n",
       "2      1  love place stiff martinis cocktails cheap drin...\n",
       "3      1  everything great cocktail bar great location a...\n",
       "4      1  came pirates game around ish evening gotten lu..."
      ]
     },
     "execution_count": 16,
     "metadata": {},
     "output_type": "execute_result"
    }
   ],
   "source": [
    "df.head()"
   ]
  },
  {
   "cell_type": "code",
   "execution_count": 17,
   "id": "e0feb10d",
   "metadata": {},
   "outputs": [
    {
     "name": "stdout",
     "output_type": "stream",
     "text": [
      "Top Topics from Reviews:\n",
      "Topic 1: place, time, like, dont, room, people, went, got, staff, told\n",
      "Topic 2: food, place, great, good, like, really, time, bar, love, service\n",
      "Topic 3: great, time, place, like, good, really, ive, best, love, nice\n"
     ]
    }
   ],
   "source": [
    "from sklearn.feature_extraction.text import CountVectorizer\n",
    "from sklearn.decomposition import LatentDirichletAllocation\n",
    "import pandas as pd\n",
    "\n",
    "def extract_themes(corpus, n_topics=3, n_words=10):\n",
    "    #  Convert text to bag-of-words\n",
    "    vectorizer = CountVectorizer(stop_words='english', max_df=0.95, min_df=2)\n",
    "    X = vectorizer.fit_transform(corpus)\n",
    "\n",
    "    #  Train the LDA model\n",
    "    lda = LatentDirichletAllocation(n_components=n_topics, random_state=42)\n",
    "    lda.fit(X)\n",
    "\n",
    "    # Extract and store top words for each topic\n",
    "    topics = {}\n",
    "    \n",
    "    # Use this line for older versions of scikit-learn\n",
    "    words = vectorizer.get_feature_names()\n",
    "\n",
    "    for idx, topic in enumerate(lda.components_):\n",
    "        top_word_indices = topic.argsort()[-n_words:][::-1]\n",
    "        top_words = [words[i] for i in top_word_indices]\n",
    "        topics[f\"Topic {idx + 1}\"] = top_words\n",
    "\n",
    "    return topics\n",
    "\n",
    "themes = extract_themes(df['clean_text'], n_topics=3, n_words=10)\n",
    "\n",
    "# Display topics\n",
    "print(\"Top Topics from Reviews:\")\n",
    "for topic, words in themes.items():\n",
    "    print(f\"{topic}: {', '.join(words)}\")\n"
   ]
  },
  {
   "cell_type": "code",
   "execution_count": 22,
   "id": "34230015",
   "metadata": {},
   "outputs": [],
   "source": [
    "import matplotlib.pyplot as plt\n",
    "from nltk.sentiment import SentimentIntensityAnalyzer\n",
    "import nltk\n",
    "import numpy as np"
   ]
  },
  {
   "cell_type": "code",
   "execution_count": 23,
   "id": "ebc7448b",
   "metadata": {},
   "outputs": [],
   "source": [
    "df['date'] = pd.to_datetime(np.random.choice(pd.date_range(\"2024-01-01\", \"2024-04-01\"), len(df)))"
   ]
  },
  {
   "cell_type": "code",
   "execution_count": 24,
   "id": "f8329c6d",
   "metadata": {},
   "outputs": [],
   "source": [
    "df.to_csv(\"cleandata.csv\",index = False)"
   ]
  },
  {
   "cell_type": "code",
   "execution_count": 28,
   "id": "1a5d5d8b",
   "metadata": {},
   "outputs": [
    {
     "name": "stderr",
     "output_type": "stream",
     "text": [
      "[nltk_data] Downloading package vader_lexicon to C:\\Users\\VINAYTEJA\n",
      "[nltk_data]     KEASRI\\AppData\\Roaming\\nltk_data...\n",
      "[nltk_data]   Package vader_lexicon is already up-to-date!\n"
     ]
    },
    {
     "data": {
      "image/png": "[encoded data removed]",
      "text/plain": [
       "<Figure size 864x432 with 1 Axes>"
      ]
     },
     "metadata": {
      "needs_background": "light"
     },
     "output_type": "display_data"
    }
   ],
   "source": [
    "\n",
    "nltk.download('vader_lexicon')\n",
    "\n",
    "sia = SentimentIntensityAnalyzer()\n",
    "\n",
    "def get_sentiment(text):\n",
    "    score = sia.polarity_scores(str(text))['compound']\n",
    "    if score >= 0.05:\n",
    "        return 'positive'\n",
    "    elif score <= -0.05:\n",
    "        return 'negative'\n",
    "    else:\n",
    "        return 'neutral'\n",
    "\n",
    "# Apply sentiment analysis\n",
    "df['sentiment'] = df['clean_text'].apply(get_sentiment)\n",
    "\n",
    "# Convert date column to datetime\n",
    "df['date'] = pd.to_datetime(df['date'])\n",
    "\n",
    "# Group by week and sentiment counts\n",
    "weekly_sentiment = df.groupby([df['date'].dt.to_period('W'), 'sentiment']).size().unstack().fillna(0)\n",
    "weekly_sentiment.index = weekly_sentiment.index.to_timestamp()\n",
    "\n",
    "# Plot\n",
    "weekly_sentiment.plot(marker='o', figsize=(12,6), linewidth=2)\n",
    "plt.title(\"Weekly Sentiment Trends Over Time\")\n",
    "plt.xlabel(\"Week\")\n",
    "plt.ylabel(\"Number of Reviews\")\n",
    "plt.grid(True)\n",
    "plt.xticks(rotation=45)\n",
    "plt.tight_layout()\n",
    "plt.show()"
   ]
  },
  {
   "cell_type": "code",
   "execution_count": null,
   "id": "6f8543ba",
   "metadata": {},
   "outputs": [],
   "source": []
  }
 ],
 "metadata": {
  "kernelspec": {
   "display_name": "Python 3 (ipykernel)",
   "language": "python",
   "name": "python3"
  },
  "language_info": {
   "codemirror_mode": {
    "name": "ipython",
    "version": 3
   },
   "file_extension": ".py",
   "mimetype": "text/x-python",
   "name": "python",
   "nbconvert_exporter": "python",
   "pygments_lexer": "ipython3",
   "version": "3.9.7"
  }
 },
 "nbformat": 4,
 "nbformat_minor": 5
}
